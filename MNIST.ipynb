{
 "cells": [
  {
   "cell_type": "code",
   "execution_count": 1,
   "metadata": {
    "collapsed": true
   },
   "outputs": [],
   "source": [
    "from PIL import Image\n",
    "import numpy as np"
   ]
  },
  {
   "cell_type": "markdown",
   "metadata": {},
   "source": [
    "\n",
    "\n",
    "先下載 MNIST 資料\n"
   ]
  },
  {
   "cell_type": "code",
   "execution_count": 2,
   "metadata": {
    "collapsed": false
   },
   "outputs": [],
   "source": [
    "import os\n",
    "import urllib\n",
    "from urllib.request import urlretrieve\n",
    "dataset = 'mnist.pkl.gz'\n",
    "def reporthook(a,b,c):\n",
    "    print(\"\\rdownloading: %5.1f%%\"%(a*b*100.0/c), end=\"\")\n",
    "    \n",
    "if not os.path.isfile(dataset):\n",
    "        origin = \"https://github.com/mnielsen/neural-networks-and-deep-learning/raw/master/data/mnist.pkl.gz\"\n",
    "        print('Downloading data from %s' % origin)\n",
    "        urlretrieve(origin, dataset, reporthook=reporthook)"
   ]
  },
  {
   "cell_type": "code",
   "execution_count": 3,
   "metadata": {
    "collapsed": true
   },
   "outputs": [],
   "source": [
    "import gzip\n",
    "import pickle\n",
    "with gzip.open(dataset, 'rb') as f:\n",
    "    train_set, validation_set, test_set = pickle.load(f, encoding='latin1')"
   ]
  },
  {
   "cell_type": "code",
   "execution_count": 4,
   "metadata": {
    "collapsed": true
   },
   "outputs": [],
   "source": [
    "# 設定好訓練及測試資料\n",
    "train_X, train_y = train_set\n",
    "test_X, test_y = test_set\n",
    "# 設定成我們的格式\n",
    "train_X = train_X[..., None]\n",
    "test_X = test_X[..., None]\n"
   ]
  },
  {
   "cell_type": "code",
   "execution_count": 5,
   "metadata": {
    "collapsed": false
   },
   "outputs": [
    {
     "name": "stdout",
     "output_type": "stream",
     "text": [
      "(50000, 784, 1)\n"
     ]
    },
    {
     "data": {
      "text/plain": [
       "array([0, 1, 2, 3, 4, 5, 6, 7, 8, 9])"
      ]
     },
     "execution_count": 5,
     "metadata": {},
     "output_type": "execute_result"
    }
   ],
   "source": [
    "# 有 10 種類別，輸入的是 784 維\n",
    "print(train_X.shape)\n",
    "np.unique(train_y)"
   ]
  },
  {
   "cell_type": "code",
   "execution_count": 6,
   "metadata": {
    "collapsed": false
   },
   "outputs": [
    {
     "name": "stdout",
     "output_type": "stream",
     "text": [
      "[5 0 4 1 9 2 1 3 1 4 3 5 3 6 1 7 2 8 6 9]\n"
     ]
    },
    {
     "data": {
      "image/png": "[encoded data removed]",
      "text/plain": [
       "<PIL.Image.Image image mode=L size=560x28 at 0x7F8D35E790F0>"
      ]
     },
     "metadata": {},
     "output_type": "display_data"
    }
   ],
   "source": [
    "from IPython.display import display\n",
    "def showX(X):\n",
    "    int_X = (X*255).clip(0,255).astype('uint8')\n",
    "    # N*784 -> N*28*28 -> 28*N*28 -> 28 * 28N\n",
    "    int_X_reshape = int_X.reshape(-1,28,28).swapaxes(0,1).reshape(28,-1)\n",
    "    display(Image.fromarray(int_X_reshape))\n",
    "# 訓練資料， X 的前 20 筆\n",
    "print(train_y[:20])\n",
    "showX(train_X[:20])"
   ]
  },
  {
   "cell_type": "code",
   "execution_count": 8,
   "metadata": {
    "collapsed": false
   },
   "outputs": [
    {
     "name": "stdout",
     "output_type": "stream",
     "text": [
      "0 0.09 17.764835287\n",
      "100 0.755 1.13833712807\n",
      "200 0.825 0.762992102635\n",
      "300 0.851666666667 0.561329662976\n",
      "400 0.866666666667 0.658354026957\n",
      "500 0.853333333333 0.712423948752\n",
      "600 0.893333333333 0.414015700454\n",
      "700 0.85 0.58701392179\n",
      "800 0.896666666667 0.40469607617\n",
      "900 0.89 0.442037355411\n",
      "1000 0.886666666667 0.442813599279\n",
      "1100 0.875 0.47320761804\n",
      "1200 0.88 0.48943102494\n",
      "1300 0.911666666667 0.347448875524\n",
      "1400 0.916666666667 0.386135596789\n",
      "1500 0.865 0.507765164747\n",
      "1600 0.9 0.415006406596\n",
      "1700 0.896666666667 0.405012293672\n",
      "1800 0.896666666667 0.409211386787\n",
      "1900 0.895 0.419964462858\n",
      "2000 0.86 0.52949605619\n",
      "2100 0.893333333333 0.36827073734\n",
      "2200 0.915 0.3292077021\n",
      "2300 0.906666666667 0.37111165045\n",
      "2400 0.89 0.407817163571\n",
      "2500 0.905 0.326286179161\n",
      "2600 0.935 0.280971971667\n",
      "2700 0.893333333333 0.380322126367\n",
      "2800 0.92 0.275207601672\n",
      "2900 0.91 0.338209344189\n",
      "3000 0.915 0.309544928356\n",
      "3100 0.9 0.373026371915\n",
      "3200 0.898333333333 0.375550731825\n",
      "3300 0.901666666667 0.450186264758\n",
      "3400 0.905 0.342988006979\n",
      "3500 0.896666666667 0.371939595066\n",
      "3600 0.91 0.334349509414\n",
      "3700 0.89 0.413706525002\n",
      "3800 0.913333333333 0.372902042202\n",
      "3900 0.91 0.370535402489\n",
      "4000 0.901666666667 0.338489108602\n",
      "4100 0.896666666667 0.298164863129\n",
      "4200 0.931666666667 0.265553104141\n",
      "4300 0.911666666667 0.269736552938\n",
      "4400 0.89 0.41212848763\n",
      "4500 0.916666666667 0.320124800275\n",
      "4600 0.905 0.335757362269\n",
      "4700 0.915 0.253542808533\n",
      "4800 0.925 0.289702477644\n",
      "4900 0.923333333333 0.282794048073\n"
     ]
    }
   ],
   "source": [
    "W = np.random.normal(size=(10, 784))\n",
    "b = np.random.normal(size=(10, 1))\n",
    "n_data = train_X.shape[0]\n",
    "# 紀錄 loss\n",
    "loss_history = []\n",
    "accuracy_history = []\n",
    "for epoch in range(5000):    \n",
    "    idx = np.random.choice(n_data, 600, replace=False)\n",
    "    X = train_X[idx]\n",
    "    y = train_y[idx]\n",
    "    one_y = np.eye(10)[y][..., None]\n",
    "    d = np.exp(W @ X + b)\n",
    "    q = d/d.sum(axis=(1,2), keepdims=True)\n",
    "    loss = -np.log(q[range(len(y)), y]).mean()\n",
    "    loss_history.append(loss)\n",
    "    accuracy = (q.argmax(axis=1).ravel() == y).mean()\n",
    "    accuracy_history.append(accuracy)\n",
    "    if epoch%100 == 0:\n",
    "        print(epoch, accuracy, loss)\n",
    "    grad_b_all = q - one_y\n",
    "    grad_b = grad_b_all.mean(axis=0)\n",
    "    grad_W_all = grad_b_all @ X.swapaxes(1,2)\n",
    "    grad_W = grad_W_all.mean(axis=0)\n",
    "    W -=  grad_W\n",
    "    b -= grad_b    \n"
   ]
  },
  {
   "cell_type": "code",
   "execution_count": 14,
   "metadata": {
    "collapsed": false
   },
   "outputs": [
    {
     "data": {
      "text/plain": [
       "0.91579999999999995"
      ]
     },
     "execution_count": 14,
     "metadata": {},
     "output_type": "execute_result"
    }
   ],
   "source": [
    "# test data 的正確率\n",
    "((W @ test_X + b).argmax(axis=1).ravel() == test_y).mean()"
   ]
  },
  {
   "cell_type": "code",
   "execution_count": 9,
   "metadata": {
    "collapsed": false
   },
   "outputs": [
    {
     "data": {
      "text/plain": [
       "[<matplotlib.lines.Line2D at 0x7f8d2a610550>]"
      ]
     },
     "execution_count": 9,
     "metadata": {},
     "output_type": "execute_result"
    },
    {
     "data": {
      "image/png": "[encoded data removed]",
      "text/plain": [
       "<matplotlib.figure.Figure at 0x7f8d2c6c6dd8>"
      ]
     },
     "metadata": {},
     "output_type": "display_data"
    }
   ],
   "source": [
    "%matplotlib inline\n",
    "import matplotlib.pyplot as plt\n",
    "# 準確率的圖\n",
    "plt.plot(accuracy_history);"
   ]
  },
  {
   "cell_type": "code",
   "execution_count": 10,
   "metadata": {
    "collapsed": false
   },
   "outputs": [
    {
     "data": {
      "image/png": "[encoded data removed]",
      "text/plain": [
       "<matplotlib.figure.Figure at 0x7f8d2a5b6080>"
      ]
     },
     "metadata": {},
     "output_type": "display_data"
    }
   ],
   "source": [
    "# loss 的圖\n",
    "plt.plot(loss_history);"
   ]
  },
  {
   "cell_type": "code",
   "execution_count": null,
   "metadata": {
    "collapsed": true
   },
   "outputs": [],
   "source": [
    "accuracy_history = []\n",
    "γ = 0.03\n",
    "A = np.random.normal(size=(10,9))\n",
    "b = np.random.normal(size=(10,1))\n",
    "C = np.random.normal(size=(3,10))\n",
    "d = np.random.normal(size=(3,1))\n",
    "\n",
    "for epochs in range(500):\n",
    "    for i in range(512):\n",
    "        x = np.array([[(i>>j)&1] for j in range(9)])\n",
    "        y = truth(x)\n",
    "        U = relu(A@x+b)\n",
    "        q = softmax(C@U+d)\n",
    "        L = - np.log(q[y])\n",
    "        p = np.eye(3)[y][:, None]\n",
    "        grad_d = q - p\n",
    "        grad_C = grad_d @ U.T\n",
    "        grad_b = (C.T @ grad_d ) * Drelu(A@x+b)\n",
    "        grad_A = grad_b @ x.T\n",
    "        A -= γ * grad_A\n",
    "        b -= γ * grad_b\n",
    "        C -= γ * grad_C\n",
    "        d -= γ * grad_d\n",
    "    score = 0\n",
    "    for i in range(512):\n",
    "        x = np.array([[(i>>j)&1] for j in range(9)])\n",
    "        x = np.array([[(i>>j)&1] for j in range(9)])        \n",
    "        U = relu(A@x+b)\n",
    "        q = softmax(C@U+d)\n",
    "        score += q.argmax() == truth(x)\n",
    "    accuracy_history.append(score/512)\n",
    "    if epochs%20==0:\n",
    "        print(epochs, score/512)"
   ]
  }
 ],
 "metadata": {
  "kernelspec": {
   "display_name": "Python 3",
   "language": "python",
   "name": "python3"
  },
  "language_info": {
   "codemirror_mode": {
    "name": "ipython",
    "version": 3
   },
   "file_extension": ".py",
   "mimetype": "text/x-python",
   "name": "python",
   "nbconvert_exporter": "python",
   "pygments_lexer": "ipython3",
   "version": "3.5.3"
  }
 },
 "nbformat": 4,
 "nbformat_minor": 1
}
