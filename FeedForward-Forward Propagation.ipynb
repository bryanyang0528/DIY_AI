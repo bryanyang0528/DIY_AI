{
 "cells": [
  {
   "cell_type": "code",
   "execution_count": 1,
   "metadata": {
    "collapsed": true
   },
   "outputs": [],
   "source": [
    "import numpy as np"
   ]
  },
  {
   "cell_type": "code",
   "execution_count": 2,
   "metadata": {
    "collapsed": true
   },
   "outputs": [],
   "source": [
    "%run magic.ipynb"
   ]
  },
  {
   "cell_type": "markdown",
   "metadata": {},
   "source": [
    "## Feedforward Network\n",
    "一樣有輸入 x, 輸出  y。 但是中間預測、計算的樣子有點不同。\n",
    "<img src=\"https://upload.wikimedia.org/wikipedia/en/5/54/Feed_forward_neural_net.gif\" />\n",
    "\n",
    "\n"
   ]
  },
  {
   "cell_type": "markdown",
   "metadata": {},
   "source": [
    "### 模型是這樣的\n",
    "一樣考慮輸入是四維向量，輸出有 3 個類別。\n",
    "\n",
    "我們的輸入 $x=\\begin{pmatrix} x_0 \\\\ x_1 \\\\ x_2 \\\\ x_3 \\end{pmatrix} $ 是一個向量，我們看成 column vector 好了\n",
    "\n",
    "### 第 0 層\n",
    "而 Weight: $ \n",
    "W^{(0)} = \\begin{pmatrix} W^{(0)}_0 \\\\ W^{(0)}_1 \\\\ W^{(0)}_2 \\\\ W^{(0)}_3 \\\\ W^{(0)}_4 \\\\ W^{(0)}_5 \\end{pmatrix} =  \n",
    "\\begin{pmatrix} \n",
    "W^{(0)}_{0,0} & W^{(0)}_{0,1} &  W^{(0)}_{0,2} & W^{(0)}_{0,3}\\\\ \n",
    "W^{(0)}_{0,0} & W^{(0)}_{0,1} &  W^{(0)}_{0,2} & W^{(0)}_{0,3}\\\\ \n",
    "W^{(0)}_{0,0} & W^{(0)}_{0,1} &  W^{(0)}_{0,2} & W^{(0)}_{0,3}\\\\ \n",
    "W^{(0)}_{0,0} & W^{(0)}_{0,1} &  W^{(0)}_{0,2} & W^{(0)}_{0,3}\\\\ \n",
    "W^{(0)}_{0,0} & W^{(0)}_{0,1} &  W^{(0)}_{0,2} & W^{(0)}_{0,3}\\\\ \n",
    "W^{(0)}_{0,0} & W^{(0)}_{0,1} &  W^{(0)}_{0,2} & W^{(0)}_{0,3}\n",
    " \\end{pmatrix} $\n",
    " \n",
    " Bias: $b^{(0)}=\\begin{pmatrix} b^{(0)}_0 \\\\ b^{(0)}_1 \\\\ b^{(0)}_2  \\\\ b^{(0)}_3 \\\\ b^{(0)}_4 \\\\ b^{(0)}_5 \\end{pmatrix} $ \n",
    "\n",
    "\n",
    "我們先計算\"線性輸出\"  $ c^{(0)} = \\begin{pmatrix} c^{(0)}_0 \\\\ c^{(0)}_1 \\\\ c^{(0)}_2  \\\\ c^{(0)}_3 \\\\ c^{(0)}_4 \\\\ c^{(0)}_5 \\end{pmatrix} =  W^{(0)}x+b^{(0)} =\n",
    "\\begin{pmatrix} W^{(0)}_0 x + b^{(0)}_0 \\\\ W^{(0)}_1 x + b^{(0)}_1 \\\\ W^{(0)}_2 x + b^{(0)}_2 \\\\\n",
    "W^{(0)}_3 x + b^{(0)}_3 \\\\ W^{(0)}_4 x + b^{(0)}_4 \\\\ W^{(0)}_5 x + b^{(0)}_5  \\end{pmatrix}   $， \n",
    "\n",
    "然後再將結果逐項對一個非線性的函數 $f$  最後得到一個向量。\n",
    " \n",
    " $d^{(0)} = \\begin{pmatrix} d^{(0)}_0 \\\\ d^{(0)}_1 \\\\ d^{(0)}_2  \\\\ d^{(0)}_3 \\\\ d^{(0)}_4 \\\\ d^{(0)}_5 \\end{pmatrix} \n",
    " = f({W x + b}) = \\begin{pmatrix} f(c^{(0)}_0) \\\\ f(c^{(0)}_1) \\\\ f(c^{(0)}_2)  \\\\ f(c^{(0)}_3) \\\\ f(c^{(0)}_4) \\\\ f(c^{(0)}_5) \\end{pmatrix} $\n",
    " \n",
    "這裡的 $f$ 常常會用 sigmoid , tanh，或者 ReLU ( https://en.wikipedia.org/wiki/Activation_function )。\n",
    "\n",
    "### 第 1 層\n",
    "這裡接到輸出，其實和 softmax regression 一樣。\n",
    "\n",
    "只是輸入變成 $d^{(0)}, Weight 和 Bias 現在叫做 W^{(1)} 和 b^{(1)} \n",
    "\n",
    "因為維度改變，現在 W^{(1)} 是 3x6 的矩陣。 後面接到的輸出都一樣。\n",
    "\n",
    "所以線性輸出\n",
    "\n",
    "### $ c^{(1)} =  W^{(1)} d^{(0)} + b^{(1)} $\n",
    "\n",
    "### $ d^{(1)} =  e^{c^{(1)}} $\n",
    "\n",
    "\n",
    "\n",
    "當輸入為 x, 最後的 softmax 預測類別是 i 的機率為\n",
    "###  $q_i = Predict_{W^{(0)}, W^{(1)}, b^{(0)}, b^{(1)}}(Y=i|x)  = \\frac {d^{(1)}_i} {\\sum_j d^{(1)}_j}$\n",
    "### 合起來看，就是 $q = \\frac {d^{(1)}} {\\sum_j d^{(1)}_j}$\n",
    "\n",
    "### 問題\n",
    "我們簡化一下算式，如果 $W^{(0)}, W^{(1)}, b^{(0)}, b^{(1)}$ 設定為 $A, b, C, d$ (C, d 與前面無關)，請簡化成為一個算式。\n",
    "可以利用  softmax function 的符號\n",
    "### $\\sigma (\\mathbf {z} )_{j}={\\frac {e^{z_{j}}}{\\sum _k e^{z_{k}}}}$"
   ]
  },
  {
   "cell_type": "code",
   "execution_count": 3,
   "metadata": {
    "collapsed": false
   },
   "outputs": [
    {
     "data": {
      "text/latex": [
       "$\\sigma (Cf(Ax+b)+d)$"
      ],
      "text/plain": [
       "<IPython.core.display.Latex object>"
      ]
     },
     "metadata": {},
     "output_type": "display_data"
    }
   ],
   "source": [
    "# 參考答案\n",
    "%run ff_oneline.py"
   ]
  },
  {
   "cell_type": "markdown",
   "metadata": {},
   "source": [
    "### 任務：計算最後的猜測機率 $q$\n",
    "設定：輸入 4 維， 輸出 3 維， 隱藏層 6 維\n",
    "* 設定一些權重 $A,b,C,d$ (隨意自行填入，或者用 np.random.randint(-2,3, size=...))\n",
    "* 設定輸入 $x$ (隨意自行填入，或者用 np.random.randint(-2,3, size=...))\n",
    "* 自行定義 relu, sigmoid 函數 (Hint: np.maximum)\n",
    "* 算出隱藏層 $z$\n",
    "* 自行定義 softmax\n",
    "* 算出最後的 q"
   ]
  },
  {
   "cell_type": "code",
   "execution_count": 4,
   "metadata": {
    "collapsed": true
   },
   "outputs": [],
   "source": [
    "# 請在這裡計算\n",
    "np.random.seed(1234)\n",
    "\n"
   ]
  },
  {
   "cell_type": "code",
   "execution_count": 5,
   "metadata": {
    "collapsed": false
   },
   "outputs": [
    {
     "data": {
      "text/latex": [
       "\\begin{pmatrix}1.000&2.000&2.000&-2.000\\\\ -1.000&-1.000&-1.000&0.000\\\\ 1.000&2.000&2.000&0.000\\\\ 0.000&-2.000&-2.000&2.000\\\\ -2.000&-1.000&0.000&-2.000\\\\ 1.000&2.000&0.000&0.000\\end{pmatrix}"
      ],
      "text/plain": [
       "array([[ 1,  2,  2, -2],\n",
       "       [-1, -1, -1,  0],\n",
       "       [ 1,  2,  2,  0],\n",
       "       [ 0, -2, -2,  2],\n",
       "       [-2, -1,  0, -2],\n",
       "       [ 1,  2,  0,  0]])"
      ]
     },
     "metadata": {},
     "output_type": "display_data"
    },
    {
     "data": {
      "text/latex": [
       "\\begin{pmatrix}1.000&1.000&-2.000&-1.000&1.000&-2.000\\end{pmatrix}"
      ],
      "text/plain": [
       "array([ 1,  1, -2, -1,  1, -2])"
      ]
     },
     "metadata": {},
     "output_type": "display_data"
    },
    {
     "data": {
      "text/latex": [
       "\\begin{pmatrix}1.000&0.000&1.000&2.000&-1.000&1.000\\\\ 1.000&1.000&0.000&-1.000&1.000&2.000\\\\ 0.000&1.000&2.000&-1.000&2.000&-2.000\\end{pmatrix}"
      ],
      "text/plain": [
       "array([[ 1,  0,  1,  2, -1,  1],\n",
       "       [ 1,  1,  0, -1,  1,  2],\n",
       "       [ 0,  1,  2, -1,  2, -2]])"
      ]
     },
     "metadata": {},
     "output_type": "display_data"
    },
    {
     "data": {
      "text/latex": [
       "\\begin{pmatrix}2.000&-1.000&-1.000\\end{pmatrix}"
      ],
      "text/plain": [
       "array([ 2, -1, -1])"
      ]
     },
     "metadata": {},
     "output_type": "display_data"
    },
    {
     "data": {
      "text/latex": [
       "\\begin{pmatrix}2.000&-1.000&2.000&-2.000\\end{pmatrix}"
      ],
      "text/plain": [
       "array([ 2, -1,  2, -2])"
      ]
     },
     "metadata": {},
     "output_type": "display_data"
    }
   ],
   "source": [
    "# 參考答案，設定權重\n",
    "%run -i ff_init_variables.py\n",
    "display(A)\n",
    "display(b)\n",
    "display(C)\n",
    "display(d)\n",
    "display(x)"
   ]
  },
  {
   "cell_type": "code",
   "execution_count": 6,
   "metadata": {
    "collapsed": false
   },
   "outputs": [
    {
     "data": {
      "text/latex": [
       "\\begin{pmatrix}9.000&0.000&2.000&0.000&2.000&0.000\\end{pmatrix}"
      ],
      "text/plain": [
       "array([9, 0, 2, 0, 2, 0])"
      ]
     },
     "metadata": {},
     "output_type": "display_data"
    },
    {
     "data": {
      "text/latex": [
       "\\begin{pmatrix}1.000&0.119&0.881&0.001&0.881&0.119\\end{pmatrix}"
      ],
      "text/plain": [
       "array([  9.99876605e-01,   1.19202922e-01,   8.80797078e-01,\n",
       "         9.11051194e-04,   8.80797078e-01,   1.19202922e-01])"
      ]
     },
     "metadata": {},
     "output_type": "display_data"
    }
   ],
   "source": [
    "# 參考答案 定義 relu, sigmoid 及計算 z\n",
    "%run -i ff_compute_z.py\n",
    "display(z_relu)\n",
    "display(z_sigmoid)"
   ]
  },
  {
   "cell_type": "code",
   "execution_count": 7,
   "metadata": {
    "collapsed": false
   },
   "outputs": [
    {
     "data": {
      "text/latex": [
       "\\begin{pmatrix}0.721&0.265&0.013\\end{pmatrix}"
      ],
      "text/plain": [
       "array([ 0.72139918,  0.26538793,  0.01321289])"
      ]
     },
     "metadata": {},
     "output_type": "display_data"
    },
    {
     "data": {
      "text/latex": [
       "\\begin{pmatrix}0.610&0.093&0.297\\end{pmatrix}"
      ],
      "text/plain": [
       "array([ 0.60980691,  0.09272259,  0.2974705 ])"
      ]
     },
     "metadata": {},
     "output_type": "display_data"
    }
   ],
   "source": [
    "# 參考答案 定義 softmax 及計算 q\n",
    "%run -i ff_compute_q.py\n",
    "display(q_relu)\n",
    "display(q_sigmoid)\n"
   ]
  },
  {
   "cell_type": "markdown",
   "metadata": {},
   "source": [
    "### 練習\n",
    "設計一個網路:\n",
    "* 輸入是二進位 0 ~ 15\n",
    "* 輸出依照對於 3 的餘數分成三類\n"
   ]
  },
  {
   "cell_type": "code",
   "execution_count": 8,
   "metadata": {
    "collapsed": false
   },
   "outputs": [
    {
     "data": {
      "text/latex": [
       "\\begin{pmatrix}1.000\\\\ 0.000\\\\ 1.000\\\\ 1.000\\end{pmatrix}"
      ],
      "text/plain": [
       "array([[ 1.],\n",
       "       [ 0.],\n",
       "       [ 1.],\n",
       "       [ 1.]])"
      ]
     },
     "execution_count": 8,
     "metadata": {},
     "output_type": "execute_result"
    }
   ],
   "source": [
    "# Hint 下面產生數字 i 的 2 進位向量\n",
    "i = 13\n",
    "x = Vector(i%2, (i>>1)%2, (i>>2)%2, (i>>3)%2)\n",
    "x"
   ]
  },
  {
   "cell_type": "code",
   "execution_count": 9,
   "metadata": {
    "collapsed": true
   },
   "outputs": [],
   "source": [
    "# 請在這裡計算\n",
    "\n"
   ]
  },
  {
   "cell_type": "code",
   "execution_count": 10,
   "metadata": {
    "collapsed": false
   },
   "outputs": [
    {
     "name": "stdout",
     "output_type": "stream",
     "text": [
      "i=0, i%3=0, q=0\n",
      "i=1, i%3=1, q=1\n",
      "i=2, i%3=2, q=2\n",
      "i=3, i%3=0, q=0\n",
      "i=4, i%3=1, q=1\n",
      "i=5, i%3=2, q=2\n",
      "i=6, i%3=0, q=0\n",
      "i=7, i%3=1, q=1\n",
      "i=8, i%3=2, q=2\n",
      "i=9, i%3=0, q=0\n",
      "i=10, i%3=1, q=1\n",
      "i=11, i%3=2, q=2\n",
      "i=12, i%3=0, q=0\n",
      "i=13, i%3=1, q=1\n",
      "i=14, i%3=2, q=2\n",
      "i=15, i%3=0, q=0\n"
     ]
    }
   ],
   "source": [
    "# 參考解答\n",
    "%run -i ff_mod3.py"
   ]
  },
  {
   "cell_type": "markdown",
   "metadata": {},
   "source": [
    "### 練習\n",
    "設計一個網路來判斷井字棋是否有連成直線(只需要判斷其中一方即可):\n",
    "* 輸入是 9 維向量，0 代表空格，1 代表有下子 \n",
    "* 輸出是二維(softmax)或一維(sigmoid)皆可，用來代表 True, False\n",
    "\n",
    "有連線的例子\n",
    "\n",
    "```\n",
    "_X_\n",
    "X__\n",
    "XXX\n",
    "\n",
    "XXX\n",
    "XX_\n",
    "_XX\n",
    "\n",
    "__X\n",
    "_XX\n",
    "X__\n",
    "```\n",
    "\n",
    "沒連線的例子\n",
    "```\n",
    "XX_\n",
    "X__\n",
    "_XX\n",
    "\n",
    "_X_\n",
    "XX_\n",
    "X_X\n",
    "\n",
    "__X\n",
    "_XX\n",
    "_X_\n",
    "```"
   ]
  },
  {
   "cell_type": "code",
   "execution_count": 11,
   "metadata": {
    "collapsed": true
   },
   "outputs": [],
   "source": [
    "# 請在這裡計算\n",
    "\n"
   ]
  },
  {
   "cell_type": "code",
   "execution_count": 12,
   "metadata": {
    "collapsed": false
   },
   "outputs": [
    {
     "name": "stdout",
     "output_type": "stream",
     "text": [
      "X__\n",
      "___\n",
      "___\n",
      "q=0\n",
      "\n",
      "XXX\n",
      "_X_\n",
      "_XX\n",
      "q=1\n",
      "\n",
      "_X_\n",
      "XX_\n",
      "X__\n",
      "q=0\n",
      "\n",
      "_XX\n",
      "___\n",
      "__X\n",
      "q=0\n",
      "\n",
      "XXX\n",
      "_X_\n",
      "X_X\n",
      "q=1\n",
      "\n",
      "_X_\n",
      "X_X\n",
      "_X_\n",
      "q=0\n",
      "\n",
      "XXX\n",
      "X_X\n",
      "XX_\n",
      "q=1\n",
      "\n",
      "__X\n",
      "_X_\n",
      "XX_\n",
      "q=1\n",
      "\n",
      "X__\n",
      "XXX\n",
      "X__\n",
      "q=1\n",
      "\n",
      "_X_\n",
      "___\n",
      "___\n",
      "q=0\n",
      "\n"
     ]
    }
   ],
   "source": [
    "#參考答案\n",
    "%run -i ff_tic_tac_toe.py"
   ]
  },
  {
   "cell_type": "code",
   "execution_count": 13,
   "metadata": {
    "collapsed": false
   },
   "outputs": [
    {
     "name": "stdout",
     "output_type": "stream",
     "text": [
      "test passed\n"
     ]
    }
   ],
   "source": [
    "# 測試你的答案\n",
    "def my_result(x):\n",
    "    # return 0 means no, 1 means yes\n",
    "    return (C@relu(A@x+b)+d).argmax()\n",
    "    # or sigmoid based\n",
    "    # return (C@relu(A@x+b)+d) > 0\n",
    "\n",
    "def truth(x):\n",
    "    x = x.reshape(3,3)\n",
    "    return (x.all(axis=0).any() or\n",
    "            x.all(axis=1).any() or\n",
    "            x.diagonal().all() or\n",
    "            x[::-1].diagonal().all())\n",
    "\n",
    "for i in range(512):\n",
    "    x = np.array([[(i>>j)&1] for j in range(9)])\n",
    "    assert my_result(x) == truth(x)\n",
    "print(\"test passed\")"
   ]
  },
  {
   "cell_type": "code",
   "execution_count": null,
   "metadata": {
    "collapsed": true
   },
   "outputs": [],
   "source": []
  }
 ],
 "metadata": {
  "kernelspec": {
   "display_name": "Python 3",
   "language": "python",
   "name": "python3"
  },
  "language_info": {
   "codemirror_mode": {
    "name": "ipython",
    "version": 3
   },
   "file_extension": ".py",
   "mimetype": "text/x-python",
   "name": "python",
   "nbconvert_exporter": "python",
   "pygments_lexer": "ipython3",
   "version": "3.5.3"
  }
 },
 "nbformat": 4,
 "nbformat_minor": 1
}
