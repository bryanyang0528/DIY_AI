{
 "cells": [
  {
   "cell_type": "markdown",
   "metadata": {},
   "source": [
    "### 練習\n",
    "手工設計一個 CNN 網路，能夠模擬 Conway's Game of Life 的規則。 也就是說，將輸入一個盤面，輸出下一步的盤面狀態。\n",
    "\n",
    "可以用多層或者一層 Hidden Layer 。\n",
    "\n",
    "<img src=\"https://upload.wikimedia.org/wikipedia/commons/e/e5/Gospers_glider_gun.gif\" />\n",
    "https://en.wikipedia.org/wiki/Conway%27s_Game_of_Life\n",
    "\n",
    "(from 中文維基百科)\n",
    "\n",
    "生命遊戲中，對於任意細胞，規則如下：\n",
    "每個細胞有兩種狀態-存活或死亡，每個細胞與以自身為中心的周圍八格細胞產生互動。（如圖，黑色為存活，白色為死亡）\n",
    "\n",
    "    當前細胞為存活狀態時，當周圍低於2個（不包含2個）存活細胞時， 該細胞變成死亡狀態。（模擬生命數量稀少）\n",
    "    當前細胞為存活狀態時，當周圍有2個或3個存活細胞時， 該細胞保持原樣。\n",
    "    當前細胞為存活狀態時，當周圍有 超過 3個存活細胞時，該細胞變成死亡狀態。（模擬生命數量過多）\n",
    "    當前細胞為死亡狀態時，當周圍有3個存活細胞時，該細胞變成存活狀態。 （模擬繁殖）\n",
    "\n",
    "可以把最初的細胞結構定義為種子，當所有在種子中的細胞同時被以上規則處理後, 可以得到第一代細胞圖。按規則繼續處理當前的細胞圖，可以得到下一代的細胞圖，周而復始。"
   ]
  },
  {
   "cell_type": "code",
   "execution_count": 1,
   "metadata": {
    "collapsed": false
   },
   "outputs": [
    {
     "data": {
      "image/png": "[encoded data removed]",
      "text/plain": [
       "<matplotlib.figure.Figure at 0x7f8e8875c588>"
      ]
     },
     "metadata": {},
     "output_type": "display_data"
    },
    {
     "data": {
      "image/png": "[encoded data removed]",
      "text/plain": [
       "<matplotlib.figure.Figure at 0x7f8e935a8908>"
      ]
     },
     "metadata": {},
     "output_type": "display_data"
    }
   ],
   "source": [
    "# 參考：用來生成 Game of Life 的下一個狀態，用來檢查\n",
    "import numpy as np\n",
    "\n",
    "def game(board):\n",
    "    board_pad = np.pad(board, 1, 'constant', constant_values = 0)\n",
    "    # 用比較笨的方式，厲害一點用 http://stackoverflow.com/questions/32660953/numpy-sliding-2d-window-calculations\n",
    "    rtn = np.zeros_like(board)\n",
    "    for i in range(board.shape[0]):\n",
    "        for j in range(board.shape[1]):\n",
    "            alive = board[i, j]\n",
    "            neighbord_count = board_pad[i:i+3, j:j+3].sum() - alive\n",
    "            if (alive and neighbord_count == 2) or neighbord_count==3:\n",
    "                rtn[i,j] = 1\n",
    "    return rtn\n",
    "# 隨機生成一個盤面\n",
    "\n",
    "board = np.random.randint(0,2, size=(10,10))\n",
    "# 畫出來看看\n",
    "%matplotlib inline\n",
    "import matplotlib.pyplot as plt\n",
    "plt.figure(0)\n",
    "plt.imshow(board)\n",
    "\n",
    "# 跑出下一個盤面\n",
    "board_after = game(board)\n",
    "# 畫出來看看\n",
    "plt.figure(1)\n",
    "plt.imshow(board_after);\n"
   ]
  },
  {
   "cell_type": "code",
   "execution_count": null,
   "metadata": {
    "collapsed": false
   },
   "outputs": [],
   "source": [
    "#參考解答\n",
    "#%load solutions/cnn_game_of_life.py\n",
    "#%run solutions/cnn_game_of_life.py"
   ]
  },
  {
   "cell_type": "code",
   "execution_count": null,
   "metadata": {
    "collapsed": false
   },
   "outputs": [
    {
     "name": "stderr",
     "output_type": "stream",
     "text": [
      "Widget Javascript not detected.  It may not be installed properly. Did you enable the widgetsnbextension? If not, then run \"jupyter nbextension enable --py --sys-prefix widgetsnbextension\"\n"
     ]
    }
   ],
   "source": [
    "# 或者用動畫跑跑看 需要 pillow, ipywidgets\n",
    "# 定義一個動畫的函數\n",
    "from IPython.display import display\n",
    "from ipywidgets import Image as Image_widget\n",
    "import time\n",
    "from PIL import Image\n",
    "def anim(func, time_length, interval=0.1, width=400):\n",
    "    img = Image_widget(width=width)\n",
    "    display(img)\n",
    "    start_time = time.time()\n",
    "    for t in np.arange(0, time_length, interval):\n",
    "        frame = Image.fromarray((func(t)*255).astype('uint8'))\n",
    "        img.value = frame._repr_png_()\n",
    "        now = time.time()\n",
    "        if now < start_time+t:\n",
    "            time.sleep(start_time+t-now)\n",
    "\n",
    "# 下面跑 Game of Life 的動畫\n",
    "board = np.random.randint(0,2, size=(100,100))\n",
    "def glife(t):\n",
    "    if t>0:\n",
    "        board[...] = game(board)\n",
    "    return board\n",
    "# 一分鐘\n",
    "anim(glife, 60)"
   ]
  },
  {
   "cell_type": "code",
   "execution_count": null,
   "metadata": {
    "collapsed": true
   },
   "outputs": [],
   "source": []
  }
 ],
 "metadata": {
  "kernelspec": {
   "display_name": "Python 3",
   "language": "python",
   "name": "python3"
  },
  "language_info": {
   "codemirror_mode": {
    "name": "ipython",
    "version": 3
   },
   "file_extension": ".py",
   "mimetype": "text/x-python",
   "name": "python",
   "nbconvert_exporter": "python",
   "pygments_lexer": "ipython3",
   "version": "3.5.2+"
  },
  "widgets": {
   "state": {
    "4057783c8281419a939500add1a91216": {
     "views": [
      {
       "cell_index": 3
      }
     ]
    }
   },
   "version": "1.2.0"
  }
 },
 "nbformat": 4,
 "nbformat_minor": 2
}
