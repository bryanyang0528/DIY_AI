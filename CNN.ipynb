{
 "cells": [
  {
   "cell_type": "markdown",
   "metadata": {},
   "source": [
    "### 練習\n",
    "手工設計一個 CNN 網路，能夠模擬 Conway's Game of Life 的規則。 也就是說，將輸入一個盤面，輸出下一步的盤面狀態。\n",
    "\n",
    "<img src=\"https://upload.wikimedia.org/wikipedia/commons/e/e5/Gospers_glider_gun.gif\" />\n",
    "https://en.wikipedia.org/wiki/Conway%27s_Game_of_Life\n",
    "\n",
    "(from 中文維基百科)\n",
    "\n",
    "生命遊戲中，對於任意細胞，規則如下：\n",
    "每個細胞有兩種狀態-存活或死亡，每個細胞與以自身為中心的周圍八格細胞產生互動。（如圖，黑色為存活，白色為死亡）\n",
    "\n",
    "    當前細胞為存活狀態時，當周圍低於2個（不包含2個）存活細胞時， 該細胞變成死亡狀態。（模擬生命數量稀少）\n",
    "    當前細胞為存活狀態時，當周圍有2個或3個存活細胞時， 該細胞保持原樣。\n",
    "    當前細胞為存活狀態時，當周圍有 超過 3個存活細胞時，該細胞變成死亡狀態。（模擬生命數量過多）\n",
    "    當前細胞為死亡狀態時，當周圍有3個存活細胞時，該細胞變成存活狀態。 （模擬繁殖）\n",
    "\n",
    "可以把最初的細胞結構定義為種子，當所有在種子中的細胞同時被以上規則處理後, 可以得到第一代細胞圖。按規則繼續處理當前的細胞圖，可以得到下一代的細胞圖，周而復始。"
   ]
  }
 ],
 "metadata": {
  "kernelspec": {
   "display_name": "Python 3",
   "language": "python",
   "name": "python3"
  },
  "language_info": {
   "codemirror_mode": {
    "name": "ipython",
    "version": 3
   },
   "file_extension": ".py",
   "mimetype": "text/x-python",
   "name": "python",
   "nbconvert_exporter": "python",
   "pygments_lexer": "ipython3",
   "version": "3.5.3"
  }
 },
 "nbformat": 4,
 "nbformat_minor": 2
}
